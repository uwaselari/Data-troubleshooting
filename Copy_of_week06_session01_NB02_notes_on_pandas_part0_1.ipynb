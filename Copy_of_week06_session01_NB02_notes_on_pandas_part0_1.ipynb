{
  "cells": [
    {
      "cell_type": "markdown",
      "metadata": {
        "id": "view-in-github",
        "colab_type": "text"
      },
      "source": [
        "<a href=\"https://colab.research.google.com/github/uwaselari/Data-troubleshooting/blob/main/Copy_of_week06_session01_NB02_notes_on_pandas_part0_1.ipynb\" target=\"_parent\"><img src=\"https://colab.research.google.com/assets/colab-badge.svg\" alt=\"Open In Colab\"/></a>"
      ]
    },
    {
      "cell_type": "markdown",
      "metadata": {
        "id": "zumXRJQ7RgX-"
      },
      "source": [
        "_Main topics covered during today's session:_\n",
        "\n",
        "Previous NB:\n",
        "\n",
        "1. **Notes on Pandas, Part 0 (from Topic 7), introducing Series and DataFrame objects**\n",
        "\n",
        "This NB:\n",
        "\n",
        "2. **Notes on Pandas, Part 0 (from Topic 7), Series and DataFrame manipulations**\n",
        "\n",
        "We are simply splitting up this NB that is on Vocareum and adding some explanatory notes for this Skills OH session. The code content is the same."
      ]
    },
    {
      "cell_type": "markdown",
      "metadata": {
        "id": "RNpKqFaPRgYA"
      },
      "source": [
        "# Supplemental notes on Pandas\n",
        "\n",
        "The [**pandas** library](https://pandas.pydata.org/) is a Python module for representing what we call \"tibbles\" in Topic 7. Beyond what you see there, this notebook has additional notes to help you understand how to manipulate objects in Pandas. These notes adapt those found in the recommended text, [Python for Data Analysis (2nd ed.)](http://shop.oreilly.com/product/0636920050896.do), which is written by the creator of pandas, [Wes McKinney](http://wesmckinney.com/)."
      ]
    },
    {
      "cell_type": "markdown",
      "metadata": {
        "id": "--a6RzogRgYB"
      },
      "source": [
        "**Versions.** The state of pandas is a bit in-flux, so it's important to be flexible and accommodate differences in functionality that might vary by version. The following code shows you how to check what version of pandas you have."
      ]
    },
    {
      "cell_type": "code",
      "execution_count": null,
      "metadata": {
        "id": "uskrrcuZRgYB",
        "outputId": "a511f73c-f278-4d35-bef7-9ca76e339548"
      },
      "outputs": [
        {
          "name": "stdout",
          "output_type": "stream",
          "text": [
            "=== pandas version: 0.24.2 ===\n",
            "\n",
            "=== Python version ===\n",
            "3.7.3 (default, Apr 24 2019, 15:29:51) [MSC v.1915 64 bit (AMD64)]\n"
          ]
        }
      ],
      "source": [
        "import pandas as pd  # Standard idiom for loading pandas\n",
        "\n",
        "print(\"=== pandas version: {} ===\\n\".format(pd.__version__))\n",
        "\n",
        "import sys\n",
        "print(\"=== Python version ===\\n{}\".format(sys.version))"
      ]
    },
    {
      "cell_type": "markdown",
      "metadata": {
        "id": "pXpysC0LRgYC"
      },
      "source": [
        "The main object that pandas implements is the `DataFrame`, which is essentially a 2-D table. It's an ideal target for holding the tibbles of Topic+Notebook 7, and its design derives in part from [data frame objects in the R language](https://www.rdocumentation.org/packages/base/versions/3.5.1/topics/data.frame).\n",
        "\n",
        "In addition to `DataFrame`, another important component of pandas is the `Series`, which is essentially one column of a `DataFrame` object (and, therefore, corresponds to variables and responses in a tibble)."
      ]
    },
    {
      "cell_type": "code",
      "execution_count": null,
      "metadata": {
        "id": "UR2dOPRFRgYC"
      },
      "outputs": [],
      "source": [
        "from pandas import DataFrame, Series"
      ]
    },
    {
      "cell_type": "markdown",
      "metadata": {
        "id": "6J5Aa2O4RgYC"
      },
      "source": [
        "# `Series` objects\n",
        "\n",
        "A pandas [`Series`](http://pandas.pydata.org/pandas-docs/stable/generated/pandas.Series.html) object is a column-oriented object that we will use to store a variable of a tibble."
      ]
    },
    {
      "cell_type": "code",
      "execution_count": null,
      "metadata": {
        "id": "hSJQD7RcRgYD",
        "outputId": "df257bdb-39c5-4055-a8a9-15e5a3a0bc70"
      },
      "outputs": [
        {
          "name": "stdout",
          "output_type": "stream",
          "text": [
            "`obj` has type `<class 'pandas.core.series.Series'>`:\n",
            "\n",
            "0   -1\n",
            "1    2\n",
            "2   -3\n",
            "3    4\n",
            "4   -5\n",
            "dtype: int64\n"
          ]
        }
      ],
      "source": [
        "obj = Series([-1, 2, -3, 4, -5])\n",
        "print(f\"`obj` has type `{type(obj)}`:\\n\\n{obj}\")"
      ]
    },
    {
      "cell_type": "markdown",
      "metadata": {
        "id": "Xz8GGGHeRgYD"
      },
      "source": [
        "Observe the common **base type** (`dtype: int64`) and **index** (element numbers)."
      ]
    },
    {
      "cell_type": "markdown",
      "metadata": {
        "id": "afvNdtxwRgYD"
      },
      "source": [
        "Regarding the base type, a `Series` differs from a Python `list` in that the types of its elements are assumed to be the same. Doing so allows many operations on a `Series` to be faster than their counterparts for `list` objects, as in this search example."
      ]
    },
    {
      "cell_type": "code",
      "execution_count": null,
      "metadata": {
        "id": "Zh_ySeh9RgYD",
        "outputId": "2e1fef67-12b2-433f-a409-f99fc5585481"
      },
      "outputs": [
        {
          "name": "stdout",
          "output_type": "stream",
          "text": [
            "\n",
            "Creating random `list` and `Series` objects:\n",
            "- Length: 10000000 elements\n",
            "- Range: [-50000000, 50000000]\n",
            "\n",
            "==> Estimating time to search the `list`:\n",
            "137 ms ± 11.3 ms per loop (mean ± std. dev. of 7 runs, 10 loops each)\n",
            "\n",
            "==> Estimating time to search the `Series`:\n",
            "12.8 ms ± 705 µs per loop (mean ± std. dev. of 7 runs, 100 loops each)\n",
            "\n",
            "==> (`list` time) divided by `Series` time is roughly 10.7x\n"
          ]
        }
      ],
      "source": [
        "from random import randint\n",
        "n_ints = 10000000\n",
        "max_value = 5*n_ints\n",
        "\n",
        "print(f\"\"\"\n",
        "Creating random `list` and `Series` objects:\n",
        "- Length: {n_ints} elements\n",
        "- Range: [{-max_value}, {max_value}]\n",
        "\"\"\")\n",
        "a_list = [randint(-max_value, max_value) for _ in range(n_ints)]\n",
        "a_series = Series(a_list)\n",
        "\n",
        "print(\"==> Estimating time to search the `list`:\")\n",
        "t_list_search = %timeit -o randint(-max_value, max_value) in a_list\n",
        "\n",
        "print(\"\\n==> Estimating time to search the `Series`:\")\n",
        "t_series_search = %timeit -o a_series.isin([randint(-max_value, max_value)])\n",
        "\n",
        "print(f\"\\n==> (`list` time) divided by `Series` time is roughly {t_list_search.average / t_series_search.average:.1f}x\")"
      ]
    },
    {
      "cell_type": "markdown",
      "metadata": {
        "id": "MBPV1iBoRgYE"
      },
      "source": [
        "**If you create a `Series` with \"mixed types,\" the `dtype` will become the most generic Python type, `object`.** (A deeper understanding of what this fact means requires some knowledge of object-oriented programming, but that won't be necessary for our course.)\n",
        "\n",
        "**Note that we will cover this in detail during our introduction to numpy in week's Skills OH sessions. While it is not necessary (in this course) for you to fully comprehend how Python objects are created and stored, it is helpful for you in understanding how we manipulate data in pandas and numpy.**"
      ]
    },
    {
      "cell_type": "code",
      "execution_count": null,
      "metadata": {
        "id": "88BnHMw9RgYE",
        "outputId": "3e5c0f6c-5917-4573-ab2a-df4f18c5b7fb"
      },
      "outputs": [
        {
          "data": {
            "text/plain": [
              "0    -1\n",
              "1     2\n",
              "2    -3\n",
              "3     4\n",
              "4    -5\n",
              "dtype: object"
            ]
          },
          "execution_count": 5,
          "metadata": {},
          "output_type": "execute_result"
        }
      ],
      "source": [
        "obj2 = Series([-1, '2', -3, '4', -5])\n",
        "obj2"
      ]
    },
    {
      "cell_type": "markdown",
      "metadata": {
        "id": "TZMf1WH8RgYE"
      },
      "source": [
        "If you want to query the base type, use:"
      ]
    },
    {
      "cell_type": "code",
      "execution_count": null,
      "metadata": {
        "id": "VD5fiE18RgYE",
        "outputId": "3ddabb09-e5cb-4246-83bd-c93a6b557736"
      },
      "outputs": [
        {
          "name": "stdout",
          "output_type": "stream",
          "text": [
            "int64\n",
            "object\n"
          ]
        }
      ],
      "source": [
        "print(obj.dtype)\n",
        "print(obj2.dtype)"
      ]
    },
    {
      "cell_type": "markdown",
      "metadata": {
        "id": "Hy6W9FVZRgYE"
      },
      "source": [
        "Regarding the index, it provides a convenient way to reference individual elements of the `Series`."
      ]
    },
    {
      "cell_type": "markdown",
      "metadata": {
        "id": "s5yVh6wdRgYE"
      },
      "source": [
        "By default, a `Series` has an index that is akin to `range()` in standard Python, and effectively numbers the entries from 0 to `n-1`, where `n` is the length of the `Series`. A `Series` object also becomes list-like in how you reference its elements."
      ]
    },
    {
      "cell_type": "code",
      "execution_count": null,
      "metadata": {
        "scrolled": true,
        "id": "5EFmrhtmRgYE",
        "outputId": "6fd55d46-8c0a-4698-8e53-45e188ed50aa"
      },
      "outputs": [
        {
          "name": "stdout",
          "output_type": "stream",
          "text": [
            "obj.index: RangeIndex(start=0, stop=5, step=1)\n",
            "range(0, 5): range(0, 5)\n"
          ]
        }
      ],
      "source": [
        "print(\"obj.index: {}\".format(obj.index))\n",
        "print(\"range(0, 5): {}\".format(range(0, 5)))"
      ]
    },
    {
      "cell_type": "code",
      "execution_count": null,
      "metadata": {
        "id": "q6O3MxvdRgYF",
        "outputId": "510e2df1-8449-46d4-f24e-04b482ee1f3b"
      },
      "outputs": [
        {
          "name": "stdout",
          "output_type": "stream",
          "text": [
            "==> obj[2]:\n",
            "-3\n",
            "\n",
            "==> obj[3]:\n",
            "4\n",
            "\n",
            "==> obj[1:3]:\n",
            "1    2\n",
            "2   -3\n",
            "3    4\n",
            "dtype: int64\n",
            "\n"
          ]
        }
      ],
      "source": [
        "print(\"==> obj[2]:\\n{}\\n\".format(obj[2]))\n",
        "print(\"==> obj[3]:\\n{}\\n\".format(obj[3]))\n",
        "print(\"==> obj[1:3]:\\n{}\\n\".format(obj[1:4]))"
      ]
    },
    {
      "cell_type": "markdown",
      "metadata": {
        "id": "pLcJ2h4tRgYF"
      },
      "source": [
        "You can also use more complex index objects, like lists of integers and conditional masks."
      ]
    },
    {
      "cell_type": "code",
      "execution_count": null,
      "metadata": {
        "id": "ADQKP9TNRgYF",
        "outputId": "ac6c304e-dfe9-4837-d987-20f2bbec419f"
      },
      "outputs": [
        {
          "data": {
            "text/plain": [
              "0   -1\n",
              "2   -3\n",
              "3    4\n",
              "dtype: int64"
            ]
          },
          "execution_count": 9,
          "metadata": {},
          "output_type": "execute_result"
        }
      ],
      "source": [
        "I = [0, 2, 3]\n",
        "obj[I] # Also: obj[[0, 2, 3]]"
      ]
    },
    {
      "cell_type": "markdown",
      "metadata": {
        "id": "OP4V6DZDRgYF"
      },
      "source": [
        "**The code in the cell below creates what is called a \"conditional mask\", or a \"boolean mask\".**\n",
        "\n",
        "The concept of a mask is important to understand in data analysis, and you will have the opportunity through the rest of the course to exercise this paradigm."
      ]
    },
    {
      "cell_type": "code",
      "execution_count": null,
      "metadata": {
        "id": "5jBqsRXFRgYF",
        "outputId": "f2780373-d83d-42ca-e19e-f3d50d569808"
      },
      "outputs": [
        {
          "name": "stdout",
          "output_type": "stream",
          "text": [
            "<class 'pandas.core.series.Series'> 0    False\n",
            "1     True\n",
            "2    False\n",
            "3     True\n",
            "4    False\n",
            "dtype: bool\n"
          ]
        }
      ],
      "source": [
        "I_pos = obj > 0\n",
        "print(type(I_pos), I_pos)"
      ]
    },
    {
      "cell_type": "markdown",
      "metadata": {
        "id": "MV6XCmvQRgYF"
      },
      "source": [
        "The first line above creates the mask, assigning a True/False value for each row in the Series that has a value greater than 0.\n",
        "\n",
        "We can then apply the mask in the code below, to only return those rows with a True value (or False, if we so desire)."
      ]
    },
    {
      "cell_type": "code",
      "execution_count": null,
      "metadata": {
        "id": "FTV_YVSXRgYF",
        "outputId": "a79de6fb-4428-4f63-9ffc-90e8a68d28be"
      },
      "outputs": [
        {
          "name": "stdout",
          "output_type": "stream",
          "text": [
            "1    2\n",
            "3    4\n",
            "dtype: int64\n"
          ]
        }
      ],
      "source": [
        "print(obj[I_pos])"
      ]
    },
    {
      "cell_type": "markdown",
      "metadata": {
        "id": "dUqS3eQiRgYF"
      },
      "source": [
        "It is important to understand how the mask functions. It essentially creates a True/False index on the series (also on dataframes) that can be used to return the appropriate rows."
      ]
    },
    {
      "cell_type": "markdown",
      "metadata": {
        "id": "0T-VpQSHRgYF"
      },
      "source": [
        "However, the index can be a more general structure, which effectively turns a `Series` object into something that is \"dictionary-like.\""
      ]
    },
    {
      "cell_type": "markdown",
      "metadata": {
        "id": "s1ESd2OqRgYG"
      },
      "source": [
        "Let's look in detail at the code below and what it does."
      ]
    },
    {
      "cell_type": "code",
      "execution_count": null,
      "metadata": {
        "id": "ql6_waJcRgYG",
        "outputId": "53f21a50-4e71-4099-a3c9-8df146f0d74f"
      },
      "outputs": [
        {
          "data": {
            "text/plain": [
              "alice     1\n",
              "bob      -2\n",
              "carol     3\n",
              "dave     -4\n",
              "esther    5\n",
              "frank    -6\n",
              "dtype: int64"
            ]
          },
          "execution_count": 12,
          "metadata": {},
          "output_type": "execute_result"
        }
      ],
      "source": [
        "obj3 = Series([      1,    -2,       3,     -4,        5,      -6],\n",
        "              ['alice', 'bob', 'carol', 'dave', 'esther', 'frank'])\n",
        "obj3"
      ]
    },
    {
      "cell_type": "markdown",
      "metadata": {
        "id": "IfS4upLIRgYG"
      },
      "source": [
        "The documentation for Python Series is a good place to go, to understand the syntax above.\n",
        "\n",
        "https://pandas.pydata.org/pandas-docs/stable/reference/api/pandas.Series.html\n",
        "\n",
        "In the above code, we are creating a Series using two lists. From the documentation, we can see that the first list is the data, and the second list is the indexes. Had we not included this list, it would have been numerical, per the documentation:\n",
        "\n",
        "**Will default to RangeIndex (0, 1, 2, …, n) if not provided.**\n",
        "\n",
        "But what this exercise shows us is that the index NEED NOT be numerical, and we can access the Series items using the index, whatever it is, as in the cell below."
      ]
    },
    {
      "cell_type": "code",
      "execution_count": null,
      "metadata": {
        "id": "Lka7CMDoRgYG",
        "outputId": "7ffc18ef-323f-4111-c24f-6bae4d902af9"
      },
      "outputs": [
        {
          "name": "stdout",
          "output_type": "stream",
          "text": [
            "* obj3['bob']: -2\n",
            "\n",
            "* obj3['carol']: 3\n",
            "\n"
          ]
        }
      ],
      "source": [
        "print(\"* obj3['bob']: {}\\n\".format(obj3['bob']))\n",
        "print(\"* obj3['carol']: {}\\n\".format(obj3['carol']))"
      ]
    },
    {
      "cell_type": "markdown",
      "metadata": {
        "id": "PVUP8l0ERgYG"
      },
      "source": [
        "In fact, you can construct a `Series` from a dictionary directly:"
      ]
    },
    {
      "cell_type": "code",
      "execution_count": null,
      "metadata": {
        "id": "XKf7zsZQRgYG",
        "outputId": "4e8b02a9-84b8-47e2-d57a-0752f6233c9e"
      },
      "outputs": [
        {
          "name": "stdout",
          "output_type": "stream",
          "text": [
            "alice     1\n",
            "carol     3\n",
            "esther    5\n",
            "bob      -2\n",
            "dave     -4\n",
            "frank    -6\n",
            "dtype: int64\n"
          ]
        }
      ],
      "source": [
        "peeps = {'alice': 1, 'carol': 3, 'esther': 5, 'bob': -2, 'dave': -4, 'frank': -6}\n",
        "obj4 = Series(peeps)\n",
        "print(obj4)"
      ]
    },
    {
      "cell_type": "markdown",
      "metadata": {
        "id": "xQHozlfqRgYG"
      },
      "source": [
        "The below 4 code cells are examples of various masks, including integer, index value, and boolean masks."
      ]
    },
    {
      "cell_type": "code",
      "execution_count": null,
      "metadata": {
        "id": "5SdMS77ERgYG",
        "outputId": "94dbfaf4-77c6-4829-9ac6-ea35b1a05635"
      },
      "outputs": [
        {
          "name": "stdout",
          "output_type": "stream",
          "text": [
            "* las mujeres of `obj3` at offsets [0, 2, 4]:\n",
            "alice     1\n",
            "carol     3\n",
            "esther    5\n",
            "dtype: int64\n",
            "\n"
          ]
        }
      ],
      "source": [
        "mujeres = [0, 2, 4] # list of integer offsets\n",
        "print(\"* las mujeres of `obj3` at offsets {}:\\n{}\\n\".format(mujeres, obj3[mujeres]))"
      ]
    },
    {
      "cell_type": "code",
      "execution_count": null,
      "metadata": {
        "id": "81daep4tRgYG",
        "outputId": "baaf7dc4-ae56-4fa9-89dd-23aa8ab577f9"
      },
      "outputs": [
        {
          "name": "stdout",
          "output_type": "stream",
          "text": [
            "* hombres, by their names, ['bob', 'dave', 'frank']:\n",
            "bob     -2\n",
            "dave    -4\n",
            "frank   -6\n",
            "dtype: int64\n"
          ]
        }
      ],
      "source": [
        "hombres = ['bob', 'dave', 'frank'] # list of index values\n",
        "print(\"* hombres, by their names, {}:\\n{}\".format(hombres, obj3[hombres]))"
      ]
    },
    {
      "cell_type": "code",
      "execution_count": null,
      "metadata": {
        "id": "IOkcjh0zRgYG",
        "outputId": "32a615d0-17af-4506-df98-28266b6bca06"
      },
      "outputs": [
        {
          "name": "stdout",
          "output_type": "stream",
          "text": [
            "alice     False\n",
            "bob        True\n",
            "carol     False\n",
            "dave       True\n",
            "esther    False\n",
            "frank      True\n",
            "dtype: bool\n"
          ]
        }
      ],
      "source": [
        "I_neg = obj3 < 0  # boolean mask\n",
        "print(I_neg)"
      ]
    },
    {
      "cell_type": "code",
      "execution_count": null,
      "metadata": {
        "id": "aFjHF4UMRgYH",
        "outputId": "75e524c5-7e59-445b-f1e5-7882cdce6580"
      },
      "outputs": [
        {
          "name": "stdout",
          "output_type": "stream",
          "text": [
            "bob     -2\n",
            "dave    -4\n",
            "frank   -6\n",
            "dtype: int64\n"
          ]
        }
      ],
      "source": [
        "print(obj3[I_neg])"
      ]
    },
    {
      "cell_type": "markdown",
      "metadata": {
        "id": "H7z5UiDPRgYH"
      },
      "source": [
        "Because of the dictionary-like naming of `Series` elements, you can use the Python `in` operator in the same way you would a dictionary.\n",
        "\n",
        "> Note: In the timing experiment comparing `list` search and `Series` search, you may have noticed that the benchmark does not use `in`, but rather, `Series.isin`. Why is that?"
      ]
    },
    {
      "cell_type": "code",
      "execution_count": null,
      "metadata": {
        "id": "9GDo48xsRgYH",
        "outputId": "fdd4c272-8f8a-4602-f621-c45cd1beb634"
      },
      "outputs": [
        {
          "name": "stdout",
          "output_type": "stream",
          "text": [
            "True\n",
            "True\n"
          ]
        }
      ],
      "source": [
        "print('carol' in peeps)  # from the dictionary above\n",
        "print('carol' in obj3)  # in the Series object"
      ]
    },
    {
      "cell_type": "markdown",
      "metadata": {
        "id": "ZU6VUY13RgYH"
      },
      "source": [
        "Basic arithmetic works on `Series` as vector-like operations."
      ]
    },
    {
      "cell_type": "code",
      "execution_count": null,
      "metadata": {
        "id": "7yenocQ8RgYH",
        "outputId": "af72af7a-9284-4ae6-ce15-045103a8912f"
      },
      "outputs": [
        {
          "name": "stdout",
          "output_type": "stream",
          "text": [
            "alice     1\n",
            "bob      -2\n",
            "carol     3\n",
            "dave     -4\n",
            "esther    5\n",
            "frank    -6\n",
            "dtype: int64 \n",
            "\n",
            "alice      6\n",
            "bob        3\n",
            "carol      8\n",
            "dave       1\n",
            "esther    10\n",
            "frank     -1\n",
            "dtype: int64 \n",
            "\n",
            "alice      True\n",
            "bob        True\n",
            "carol      True\n",
            "dave       True\n",
            "esther     True\n",
            "frank     False\n",
            "dtype: bool \n",
            "\n",
            "alice      3.5\n",
            "bob        8.0\n",
            "carol      0.5\n",
            "dave      11.0\n",
            "esther    -2.5\n",
            "frank     14.0\n",
            "dtype: float64\n"
          ]
        }
      ],
      "source": [
        "print(obj3, \"\\n\")\n",
        "print(obj3 + 5, \"\\n\")\n",
        "print(obj3 + 5 > 0, \"\\n\")  # creates a boolean mask\n",
        "print((-2.5 * obj3) + (obj3 + 5))"
      ]
    },
    {
      "cell_type": "markdown",
      "metadata": {
        "id": "aY0fhz1ZRgYH"
      },
      "source": [
        "A `Series` object also supports vector-style operations with automatic alignment based on index values."
      ]
    },
    {
      "cell_type": "code",
      "execution_count": null,
      "metadata": {
        "id": "atk6UTx_RgYH",
        "outputId": "fe213efc-f713-4bdc-ae21-caeb1503bd57"
      },
      "outputs": [
        {
          "name": "stdout",
          "output_type": "stream",
          "text": [
            "alice     1\n",
            "bob      -2\n",
            "carol     3\n",
            "dave     -4\n",
            "esther    5\n",
            "frank    -6\n",
            "dtype: int64\n"
          ]
        }
      ],
      "source": [
        "print(obj3)"
      ]
    },
    {
      "cell_type": "code",
      "execution_count": null,
      "metadata": {
        "id": "keZ8S8aBRgYH",
        "outputId": "e4d4dd89-1162-4a2c-d893-0fd333cb8177"
      },
      "outputs": [
        {
          "data": {
            "text/plain": [
              "alice     1\n",
              "carol     3\n",
              "esther    5\n",
              "dtype: int64"
            ]
          },
          "execution_count": 22,
          "metadata": {},
          "output_type": "execute_result"
        }
      ],
      "source": [
        "# recall mujeres definition\n",
        "# mujeres = [0, 2, 4] # list of integer offsets\n",
        "obj_l = obj3[mujeres]\n",
        "obj_l"
      ]
    },
    {
      "cell_type": "code",
      "execution_count": null,
      "metadata": {
        "id": "Jh5TGWPURgYH",
        "outputId": "dd431121-59a4-4cc7-8979-439341f6be96"
      },
      "outputs": [
        {
          "data": {
            "text/plain": [
              "alice      2.0\n",
              "bob        NaN\n",
              "carol      6.0\n",
              "dave       NaN\n",
              "esther    10.0\n",
              "frank      NaN\n",
              "dtype: float64"
            ]
          },
          "execution_count": 23,
          "metadata": {},
          "output_type": "execute_result"
        }
      ],
      "source": [
        "# note that we are doing addition\n",
        "obj3 + obj_l"
      ]
    },
    {
      "cell_type": "markdown",
      "metadata": {
        "id": "9ftXymr9RgYH"
      },
      "source": [
        "Observe what happened with undefined elements. If you are familiar with relational databases, this behavior is akin to an _outer-join_, which we will cover in our Skills OH SQL module next week."
      ]
    },
    {
      "cell_type": "markdown",
      "metadata": {
        "id": "tDL_hO0ORgYH"
      },
      "source": [
        "**For our Skills OH session, we will stop here in our introduction of Series objects, as we will introduce the .apply() function in our next session.**\n",
        "\n",
        "**We will go back now and introduce DataFrames.**"
      ]
    },
    {
      "cell_type": "markdown",
      "metadata": {
        "id": "aXOLIPf6RgYH"
      },
      "source": [
        "Another useful transformation is the `.apply(fun)` method. It returns a copy of the `Series` where the function `fun` has been applied to each element. For example:"
      ]
    },
    {
      "cell_type": "code",
      "execution_count": null,
      "metadata": {
        "id": "t42i0YrcRgYH",
        "outputId": "64a46344-8f71-4d37-84e3-7ebcb41359ab"
      },
      "outputs": [
        {
          "data": {
            "text/plain": [
              "5"
            ]
          },
          "execution_count": 24,
          "metadata": {},
          "output_type": "execute_result"
        }
      ],
      "source": [
        "abs(-5) # Python built-in function"
      ]
    },
    {
      "cell_type": "code",
      "execution_count": null,
      "metadata": {
        "id": "-RHZlzulRgYH",
        "outputId": "2a453d75-6422-403e-877d-0918f4bac258"
      },
      "outputs": [
        {
          "data": {
            "text/plain": [
              "alice     1\n",
              "bob      -2\n",
              "carol     3\n",
              "dave     -4\n",
              "esther    5\n",
              "frank    -6\n",
              "dtype: int64"
            ]
          },
          "execution_count": 25,
          "metadata": {},
          "output_type": "execute_result"
        }
      ],
      "source": [
        "obj3 # Recall"
      ]
    },
    {
      "cell_type": "code",
      "execution_count": null,
      "metadata": {
        "id": "_6n_WSjXRgYH",
        "outputId": "3f2db927-8580-424c-d0e2-1c4d0780d6ba"
      },
      "outputs": [
        {
          "data": {
            "text/plain": [
              "alice     1\n",
              "bob       2\n",
              "carol     3\n",
              "dave      4\n",
              "esther    5\n",
              "frank     6\n",
              "dtype: int64"
            ]
          },
          "execution_count": 26,
          "metadata": {},
          "output_type": "execute_result"
        }
      ],
      "source": [
        "obj3.apply(abs)"
      ]
    },
    {
      "cell_type": "code",
      "execution_count": null,
      "metadata": {
        "id": "FfT_2uemRgYI",
        "outputId": "84234ca1-f850-4100-f21f-6a3e3afe5e31"
      },
      "outputs": [
        {
          "data": {
            "text/plain": [
              "alice     1\n",
              "bob      -2\n",
              "carol     3\n",
              "dave     -4\n",
              "esther    5\n",
              "frank    -6\n",
              "dtype: int64"
            ]
          },
          "execution_count": 27,
          "metadata": {},
          "output_type": "execute_result"
        }
      ],
      "source": [
        "obj3 # Note: `.apply()` returned a copy, so the original is untouched"
      ]
    },
    {
      "cell_type": "markdown",
      "metadata": {
        "id": "IAts0d6URgYI"
      },
      "source": [
        "A `Series` may be _named_, too."
      ]
    },
    {
      "cell_type": "code",
      "execution_count": null,
      "metadata": {
        "id": "aKbyT-EtRgYI",
        "outputId": "01f47d11-951c-4605-d8a1-f765a3830004"
      },
      "outputs": [
        {
          "name": "stdout",
          "output_type": "stream",
          "text": [
            "None\n"
          ]
        }
      ],
      "source": [
        "print(obj3.name)"
      ]
    },
    {
      "cell_type": "code",
      "execution_count": null,
      "metadata": {
        "scrolled": true,
        "id": "rbW4ekPURgYI",
        "outputId": "6c893861-e062-42c2-d6a2-47b1f79c4f02"
      },
      "outputs": [
        {
          "data": {
            "text/plain": [
              "alice     1\n",
              "bob      -2\n",
              "carol     3\n",
              "dave     -4\n",
              "esther    5\n",
              "frank    -6\n",
              "Name: peep, dtype: int64"
            ]
          },
          "execution_count": 29,
          "metadata": {},
          "output_type": "execute_result"
        }
      ],
      "source": [
        "obj3.name = 'peep'\n",
        "obj3"
      ]
    },
    {
      "cell_type": "markdown",
      "metadata": {
        "id": "G3Yffz-HRgYI"
      },
      "source": [
        "When we move on to `DataFrame` objects, you'll see why names matter."
      ]
    },
    {
      "cell_type": "markdown",
      "metadata": {
        "id": "JOuFwv-zRgYI"
      },
      "source": [
        "# `DataFrame` objects\n",
        "\n",
        "A pandas [`DataFrame`](https://pandas.pydata.org/pandas-docs/stable/generated/pandas.DataFrame.html) object is a table whose columns are `Series` objects, all keyed on the same index. It's the perfect container for what we have been referring to as a tibble."
      ]
    },
    {
      "cell_type": "code",
      "execution_count": null,
      "metadata": {
        "id": "Oydw4L_TRgYI",
        "outputId": "8ae7de5a-3ca2-4bd0-933c-82064e5cf1e6"
      },
      "outputs": [
        {
          "name": "stdout",
          "output_type": "stream",
          "text": [
            "type: <class 'pandas.core.frame.DataFrame'>\n",
            "               name    zip       poc\n",
            "0         east pole  30324     jared\n",
            "1     chrome yellow  30312     kelly\n",
            "2             brash  30318      matt\n",
            "3           taproom  30317  jonathan\n",
            "4            3heart  30306      nhan\n",
            "5  spiller park pcm  30308      dale\n",
            "6            refuge  30303     kitti\n",
            "7           toptime  30318     nolan\n"
          ]
        }
      ],
      "source": [
        "cafes = DataFrame({'name': ['east pole', 'chrome yellow', 'brash', 'taproom', '3heart', 'spiller park pcm', 'refuge', 'toptime'],\n",
        "                   'zip': [30324, 30312, 30318, 30317, 30306, 30308, 30303, 30318],\n",
        "                   'poc': ['jared', 'kelly', 'matt', 'jonathan', 'nhan', 'dale', 'kitti', 'nolan']})\n",
        "print(\"type:\", type(cafes))\n",
        "print(cafes)"
      ]
    },
    {
      "cell_type": "markdown",
      "metadata": {
        "id": "V7dIIgjARgYI"
      },
      "source": [
        "**Let's take a look in detail at the syntax above.**\n",
        "\n",
        "https://pandas.pydata.org/pandas-docs/stable/reference/api/pandas.DataFrame.html\n",
        "\n",
        "Similar to the Series syntax, the first two parameters are data and index, and it also adds a third parameter, which is the column names.\n",
        "\n",
        "In the above code, note that we are only passing in the \"data\" parameter, as we are passing in a dictionary (note the enclosing brackets) with keys and values. The keys become the column names and the values become the dataframe rows. Because we did not pass in anything for the index, it defaults to the numeric range, same as the Series."
      ]
    },
    {
      "cell_type": "code",
      "execution_count": null,
      "metadata": {
        "id": "Fw_c4HlxRgYI",
        "outputId": "063eea8b-edd8-4b3c-ec09-4d2570176ae9"
      },
      "outputs": [
        {
          "data": {
            "text/html": [
              "<div>\n",
              "<style scoped>\n",
              "    .dataframe tbody tr th:only-of-type {\n",
              "        vertical-align: middle;\n",
              "    }\n",
              "\n",
              "    .dataframe tbody tr th {\n",
              "        vertical-align: top;\n",
              "    }\n",
              "\n",
              "    .dataframe thead th {\n",
              "        text-align: right;\n",
              "    }\n",
              "</style>\n",
              "<table border=\"1\" class=\"dataframe\">\n",
              "  <thead>\n",
              "    <tr style=\"text-align: right;\">\n",
              "      <th></th>\n",
              "      <th>name</th>\n",
              "      <th>zip</th>\n",
              "      <th>poc</th>\n",
              "    </tr>\n",
              "  </thead>\n",
              "  <tbody>\n",
              "    <tr>\n",
              "      <th>0</th>\n",
              "      <td>east pole</td>\n",
              "      <td>30324</td>\n",
              "      <td>jared</td>\n",
              "    </tr>\n",
              "    <tr>\n",
              "      <th>1</th>\n",
              "      <td>chrome yellow</td>\n",
              "      <td>30312</td>\n",
              "      <td>kelly</td>\n",
              "    </tr>\n",
              "    <tr>\n",
              "      <th>2</th>\n",
              "      <td>brash</td>\n",
              "      <td>30318</td>\n",
              "      <td>matt</td>\n",
              "    </tr>\n",
              "    <tr>\n",
              "      <th>3</th>\n",
              "      <td>taproom</td>\n",
              "      <td>30317</td>\n",
              "      <td>jonathan</td>\n",
              "    </tr>\n",
              "    <tr>\n",
              "      <th>4</th>\n",
              "      <td>3heart</td>\n",
              "      <td>30306</td>\n",
              "      <td>nhan</td>\n",
              "    </tr>\n",
              "    <tr>\n",
              "      <th>5</th>\n",
              "      <td>spiller park pcm</td>\n",
              "      <td>30308</td>\n",
              "      <td>dale</td>\n",
              "    </tr>\n",
              "    <tr>\n",
              "      <th>6</th>\n",
              "      <td>refuge</td>\n",
              "      <td>30303</td>\n",
              "      <td>kitti</td>\n",
              "    </tr>\n",
              "    <tr>\n",
              "      <th>7</th>\n",
              "      <td>toptime</td>\n",
              "      <td>30318</td>\n",
              "      <td>nolan</td>\n",
              "    </tr>\n",
              "  </tbody>\n",
              "</table>\n",
              "</div>"
            ],
            "text/plain": [
              "               name    zip       poc\n",
              "0         east pole  30324     jared\n",
              "1     chrome yellow  30312     kelly\n",
              "2             brash  30318      matt\n",
              "3           taproom  30317  jonathan\n",
              "4            3heart  30306      nhan\n",
              "5  spiller park pcm  30308      dale\n",
              "6            refuge  30303     kitti\n",
              "7           toptime  30318     nolan"
            ]
          },
          "metadata": {},
          "output_type": "display_data"
        }
      ],
      "source": [
        "display(cafes) # Or just `cafes` as the last line of a cell"
      ]
    },
    {
      "cell_type": "markdown",
      "metadata": {
        "id": "XDfEvgvgRgYI"
      },
      "source": [
        "The `DataFrame` has named columns, which are stored as an `Index` (more later!):"
      ]
    },
    {
      "cell_type": "code",
      "execution_count": null,
      "metadata": {
        "id": "7d0Crs6URgYI",
        "outputId": "2479ff13-2906-407a-ab5d-15e058f91d60"
      },
      "outputs": [
        {
          "data": {
            "text/plain": [
              "Index(['name', 'zip', 'poc'], dtype='object')"
            ]
          },
          "execution_count": 32,
          "metadata": {},
          "output_type": "execute_result"
        }
      ],
      "source": [
        "cafes.columns"
      ]
    },
    {
      "cell_type": "markdown",
      "metadata": {
        "id": "F7XsBgP-RgYI"
      },
      "source": [
        "Each column is a named `Series`:\n",
        "\n",
        "(Go back to Slide 5 for a visual of this.)"
      ]
    },
    {
      "cell_type": "code",
      "execution_count": null,
      "metadata": {
        "id": "Lr8x0VRXRgYI",
        "outputId": "6bf2eb65-42f9-46b4-919f-77cad2d25fac"
      },
      "outputs": [
        {
          "data": {
            "text/plain": [
              "pandas.core.series.Series"
            ]
          },
          "execution_count": 33,
          "metadata": {},
          "output_type": "execute_result"
        }
      ],
      "source": [
        "type(cafes['zip']) # Aha!"
      ]
    },
    {
      "cell_type": "markdown",
      "metadata": {
        "id": "XC1LqoG7RgYJ"
      },
      "source": [
        "As you might expect, these `Series` objects should all have the same index."
      ]
    },
    {
      "cell_type": "code",
      "execution_count": null,
      "metadata": {
        "id": "M3RExze0RgYJ",
        "outputId": "5f52c95d-a88f-447a-b1b9-52f59909f993"
      },
      "outputs": [
        {
          "data": {
            "text/plain": [
              "RangeIndex(start=0, stop=8, step=1)"
            ]
          },
          "execution_count": 34,
          "metadata": {},
          "output_type": "execute_result"
        }
      ],
      "source": [
        "cafes.index"
      ]
    },
    {
      "cell_type": "code",
      "execution_count": null,
      "metadata": {
        "scrolled": true,
        "id": "O7Tsd5N7RgYJ",
        "outputId": "c8fc3304-20e1-47dc-8c9e-5a106043e748"
      },
      "outputs": [
        {
          "data": {
            "text/plain": [
              "array([ True,  True,  True,  True,  True,  True,  True,  True])"
            ]
          },
          "execution_count": 35,
          "metadata": {},
          "output_type": "execute_result"
        }
      ],
      "source": [
        "cafes.index == cafes['zip'].index"
      ]
    },
    {
      "cell_type": "code",
      "execution_count": null,
      "metadata": {
        "id": "MwFgvuOCRgYJ",
        "outputId": "c0e40b80-20b6-41f6-feb9-e7ff78f29b08"
      },
      "outputs": [
        {
          "data": {
            "text/plain": [
              "array([ True,  True,  True,  True,  True,  True,  True,  True])"
            ]
          },
          "execution_count": 36,
          "metadata": {},
          "output_type": "execute_result"
        }
      ],
      "source": [
        "cafes['zip'].index == cafes['poc'].index"
      ]
    },
    {
      "cell_type": "markdown",
      "metadata": {
        "id": "J_HMsNHoRgYJ"
      },
      "source": [
        "You may use complex indexing of columns.\n",
        "\n",
        "The below code creates a column mask, similar to the masks introduced for series above, which were row masks."
      ]
    },
    {
      "cell_type": "code",
      "execution_count": null,
      "metadata": {
        "scrolled": false,
        "id": "mv9OnAo_RgYJ",
        "outputId": "b1323081-fce5-4294-d19c-f6b537561cbd"
      },
      "outputs": [
        {
          "data": {
            "text/html": [
              "<div>\n",
              "<style scoped>\n",
              "    .dataframe tbody tr th:only-of-type {\n",
              "        vertical-align: middle;\n",
              "    }\n",
              "\n",
              "    .dataframe tbody tr th {\n",
              "        vertical-align: top;\n",
              "    }\n",
              "\n",
              "    .dataframe thead th {\n",
              "        text-align: right;\n",
              "    }\n",
              "</style>\n",
              "<table border=\"1\" class=\"dataframe\">\n",
              "  <thead>\n",
              "    <tr style=\"text-align: right;\">\n",
              "      <th></th>\n",
              "      <th>zip</th>\n",
              "      <th>poc</th>\n",
              "    </tr>\n",
              "  </thead>\n",
              "  <tbody>\n",
              "    <tr>\n",
              "      <th>0</th>\n",
              "      <td>30324</td>\n",
              "      <td>jared</td>\n",
              "    </tr>\n",
              "    <tr>\n",
              "      <th>1</th>\n",
              "      <td>30312</td>\n",
              "      <td>kelly</td>\n",
              "    </tr>\n",
              "    <tr>\n",
              "      <th>2</th>\n",
              "      <td>30318</td>\n",
              "      <td>matt</td>\n",
              "    </tr>\n",
              "    <tr>\n",
              "      <th>3</th>\n",
              "      <td>30317</td>\n",
              "      <td>jonathan</td>\n",
              "    </tr>\n",
              "    <tr>\n",
              "      <th>4</th>\n",
              "      <td>30306</td>\n",
              "      <td>nhan</td>\n",
              "    </tr>\n",
              "    <tr>\n",
              "      <th>5</th>\n",
              "      <td>30308</td>\n",
              "      <td>dale</td>\n",
              "    </tr>\n",
              "    <tr>\n",
              "      <th>6</th>\n",
              "      <td>30303</td>\n",
              "      <td>kitti</td>\n",
              "    </tr>\n",
              "    <tr>\n",
              "      <th>7</th>\n",
              "      <td>30318</td>\n",
              "      <td>nolan</td>\n",
              "    </tr>\n",
              "  </tbody>\n",
              "</table>\n",
              "</div>"
            ],
            "text/plain": [
              "     zip       poc\n",
              "0  30324     jared\n",
              "1  30312     kelly\n",
              "2  30318      matt\n",
              "3  30317  jonathan\n",
              "4  30306      nhan\n",
              "5  30308      dale\n",
              "6  30303     kitti\n",
              "7  30318     nolan"
            ]
          },
          "execution_count": 37,
          "metadata": {},
          "output_type": "execute_result"
        }
      ],
      "source": [
        "target_fields = ['zip', 'poc']\n",
        "cafes[target_fields]"
      ]
    },
    {
      "cell_type": "markdown",
      "metadata": {
        "id": "BlqG9caERgYJ"
      },
      "source": [
        "But slices apply to rows. Let's go back to our Slide on DataFrame Slicing for who this works."
      ]
    },
    {
      "cell_type": "code",
      "execution_count": null,
      "metadata": {
        "id": "92NBLE_jRgYJ",
        "outputId": "b14bf587-4add-43e6-cf1a-ecbbe456a32e"
      },
      "outputs": [
        {
          "data": {
            "text/html": [
              "<div>\n",
              "<style scoped>\n",
              "    .dataframe tbody tr th:only-of-type {\n",
              "        vertical-align: middle;\n",
              "    }\n",
              "\n",
              "    .dataframe tbody tr th {\n",
              "        vertical-align: top;\n",
              "    }\n",
              "\n",
              "    .dataframe thead th {\n",
              "        text-align: right;\n",
              "    }\n",
              "</style>\n",
              "<table border=\"1\" class=\"dataframe\">\n",
              "  <thead>\n",
              "    <tr style=\"text-align: right;\">\n",
              "      <th></th>\n",
              "      <th>name</th>\n",
              "      <th>zip</th>\n",
              "      <th>poc</th>\n",
              "    </tr>\n",
              "  </thead>\n",
              "  <tbody>\n",
              "    <tr>\n",
              "      <th>1</th>\n",
              "      <td>chrome yellow</td>\n",
              "      <td>30312</td>\n",
              "      <td>kelly</td>\n",
              "    </tr>\n",
              "    <tr>\n",
              "      <th>3</th>\n",
              "      <td>taproom</td>\n",
              "      <td>30317</td>\n",
              "      <td>jonathan</td>\n",
              "    </tr>\n",
              "    <tr>\n",
              "      <th>5</th>\n",
              "      <td>spiller park pcm</td>\n",
              "      <td>30308</td>\n",
              "      <td>dale</td>\n",
              "    </tr>\n",
              "    <tr>\n",
              "      <th>7</th>\n",
              "      <td>toptime</td>\n",
              "      <td>30318</td>\n",
              "      <td>nolan</td>\n",
              "    </tr>\n",
              "  </tbody>\n",
              "</table>\n",
              "</div>"
            ],
            "text/plain": [
              "               name    zip       poc\n",
              "1     chrome yellow  30312     kelly\n",
              "3           taproom  30317  jonathan\n",
              "5  spiller park pcm  30308      dale\n",
              "7           toptime  30318     nolan"
            ]
          },
          "execution_count": 38,
          "metadata": {},
          "output_type": "execute_result"
        }
      ],
      "source": [
        "cafes[1::2]"
      ]
    },
    {
      "cell_type": "markdown",
      "metadata": {
        "id": "3PE3HY-MRgYJ"
      },
      "source": [
        "The index above is, by default, an integer range."
      ]
    },
    {
      "cell_type": "code",
      "execution_count": null,
      "metadata": {
        "id": "U3ulp8raRgYJ",
        "outputId": "da4bcb2a-4525-4f0b-8b30-c74bd4d30234"
      },
      "outputs": [
        {
          "data": {
            "text/plain": [
              "RangeIndex(start=0, stop=8, step=1)"
            ]
          },
          "execution_count": 39,
          "metadata": {},
          "output_type": "execute_result"
        }
      ],
      "source": [
        "cafes.index"
      ]
    },
    {
      "cell_type": "markdown",
      "metadata": {
        "id": "kcb_IQerRgYJ"
      },
      "source": [
        "In the cell below, we do three things:\n",
        "\n",
        "1. Create a new DF from the 'poc' and 'zip' columns of the cafes df.\n",
        "2. Add an index to the df, from the 'name'column of the cafes df.\n",
        "3. Set the index name to None."
      ]
    },
    {
      "cell_type": "code",
      "execution_count": null,
      "metadata": {
        "id": "PkuJBkfIRgYJ"
      },
      "outputs": [],
      "source": [
        "cafes2 = cafes[['poc', 'zip']]\n",
        "cafes2.index = cafes['name']\n",
        "cafes2.index.name = None\n",
        "cafes2"
      ]
    },
    {
      "cell_type": "markdown",
      "metadata": {
        "id": "SOTM13siRgYJ"
      },
      "source": [
        "**Let's go back to the Slide to understand .loc and .iloc.**"
      ]
    },
    {
      "cell_type": "markdown",
      "metadata": {
        "id": "gM135saYRgYJ"
      },
      "source": [
        "You can access subsets of rows using the `.loc` field and index values:"
      ]
    },
    {
      "cell_type": "code",
      "execution_count": null,
      "metadata": {
        "id": "vhWaJ79qRgYJ",
        "outputId": "032975ee-0f9c-4634-94e9-d5d34b13d11f"
      },
      "outputs": [
        {
          "data": {
            "text/html": [
              "<div>\n",
              "<style scoped>\n",
              "    .dataframe tbody tr th:only-of-type {\n",
              "        vertical-align: middle;\n",
              "    }\n",
              "\n",
              "    .dataframe tbody tr th {\n",
              "        vertical-align: top;\n",
              "    }\n",
              "\n",
              "    .dataframe thead th {\n",
              "        text-align: right;\n",
              "    }\n",
              "</style>\n",
              "<table border=\"1\" class=\"dataframe\">\n",
              "  <thead>\n",
              "    <tr style=\"text-align: right;\">\n",
              "      <th></th>\n",
              "      <th>poc</th>\n",
              "      <th>zip</th>\n",
              "    </tr>\n",
              "  </thead>\n",
              "  <tbody>\n",
              "    <tr>\n",
              "      <th>chrome yellow</th>\n",
              "      <td>kelly</td>\n",
              "      <td>30312</td>\n",
              "    </tr>\n",
              "    <tr>\n",
              "      <th>3heart</th>\n",
              "      <td>nhan</td>\n",
              "      <td>30306</td>\n",
              "    </tr>\n",
              "  </tbody>\n",
              "</table>\n",
              "</div>"
            ],
            "text/plain": [
              "                 poc    zip\n",
              "chrome yellow  kelly  30312\n",
              "3heart          nhan  30306"
            ]
          },
          "execution_count": 41,
          "metadata": {},
          "output_type": "execute_result"
        }
      ],
      "source": [
        "cafes2.loc[['chrome yellow', '3heart']]"
      ]
    },
    {
      "cell_type": "markdown",
      "metadata": {
        "id": "DI9lyqjaRgYJ"
      },
      "source": [
        "Alternatively, you can use integer offsets via the `.iloc` field, which is 0-based."
      ]
    },
    {
      "cell_type": "code",
      "execution_count": null,
      "metadata": {
        "id": "AQE1_Y_CRgYJ",
        "outputId": "25342c2b-c359-4467-fd48-0c3521a0217a"
      },
      "outputs": [
        {
          "data": {
            "text/html": [
              "<div>\n",
              "<style scoped>\n",
              "    .dataframe tbody tr th:only-of-type {\n",
              "        vertical-align: middle;\n",
              "    }\n",
              "\n",
              "    .dataframe tbody tr th {\n",
              "        vertical-align: top;\n",
              "    }\n",
              "\n",
              "    .dataframe thead th {\n",
              "        text-align: right;\n",
              "    }\n",
              "</style>\n",
              "<table border=\"1\" class=\"dataframe\">\n",
              "  <thead>\n",
              "    <tr style=\"text-align: right;\">\n",
              "      <th></th>\n",
              "      <th>poc</th>\n",
              "      <th>zip</th>\n",
              "    </tr>\n",
              "  </thead>\n",
              "  <tbody>\n",
              "    <tr>\n",
              "      <th>chrome yellow</th>\n",
              "      <td>kelly</td>\n",
              "      <td>30312</td>\n",
              "    </tr>\n",
              "    <tr>\n",
              "      <th>taproom</th>\n",
              "      <td>jonathan</td>\n",
              "      <td>30317</td>\n",
              "    </tr>\n",
              "  </tbody>\n",
              "</table>\n",
              "</div>"
            ],
            "text/plain": [
              "                    poc    zip\n",
              "chrome yellow     kelly  30312\n",
              "taproom        jonathan  30317"
            ]
          },
          "execution_count": 42,
          "metadata": {},
          "output_type": "execute_result"
        }
      ],
      "source": [
        "cafes2.iloc[[1, 3]]"
      ]
    }
  ],
  "metadata": {
    "kernel_info": {
      "name": "python3"
    },
    "kernelspec": {
      "display_name": "Python 3 (ipykernel)",
      "language": "python",
      "name": "python3"
    },
    "language_info": {
      "codemirror_mode": {
        "name": "ipython",
        "version": 3
      },
      "file_extension": ".py",
      "mimetype": "text/x-python",
      "name": "python",
      "nbconvert_exporter": "python",
      "pygments_lexer": "ipython3",
      "version": "3.9.13"
    },
    "nteract": {
      "version": "0.11.7"
    },
    "colab": {
      "provenance": [],
      "include_colab_link": true
    }
  },
  "nbformat": 4,
  "nbformat_minor": 0
}