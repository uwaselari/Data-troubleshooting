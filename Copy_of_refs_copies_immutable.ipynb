{
  "cells": [
    {
      "cell_type": "markdown",
      "metadata": {
        "id": "view-in-github",
        "colab_type": "text"
      },
      "source": [
        "<a href=\"https://colab.research.google.com/github/uwaselari/Data-troubleshooting/blob/main/Copy_of_refs_copies_immutable.ipynb\" target=\"_parent\"><img src=\"https://colab.research.google.com/assets/colab-badge.svg\" alt=\"Open In Colab\"/></a>"
      ]
    },
    {
      "cell_type": "markdown",
      "metadata": {
        "id": "68yb-oEKajGF"
      },
      "source": [
        "# Part B: References, copies, built-in collections, and immutability #\n",
        "\n",
        "_(September 1, 2022)_"
      ]
    },
    {
      "cell_type": "markdown",
      "metadata": {
        "id": "ZvOzuybiajGM"
      },
      "source": [
        "_Main topics covered in this note:_\n",
        "\n",
        "- Variables (names), references, and copies\n",
        "- Primitive types\n",
        "- Basic collections, e.g., `list`, `set`, `dict`, `tuple`\n",
        "- Immutability (and hashability)"
      ]
    },
    {
      "cell_type": "markdown",
      "metadata": {
        "id": "h1b_iq-majGO"
      },
      "source": [
        "## References ##"
      ]
    },
    {
      "cell_type": "markdown",
      "metadata": {
        "id": "RJjL8JLWajGP"
      },
      "source": [
        "Variables are _names_ for objects. When the objects are \"complex\" (not \"primitive\"), modifications through one name may be visible to others."
      ]
    },
    {
      "cell_type": "markdown",
      "metadata": {
        "id": "1W4uvWmrajGQ"
      },
      "source": [
        "To wit:"
      ]
    },
    {
      "cell_type": "code",
      "execution_count": null,
      "metadata": {
        "id": "SC1Z4aBAajGR"
      },
      "outputs": [],
      "source": [
        "x = [1, 2, 3, 4, 5]\n",
        "print(\"x:\", x)\n",
        "\n",
        "y = x\n",
        "print(\"y:\", y)\n",
        "\n",
        "y[2] *= -1\n",
        "print(\"Modified y:\", y)"
      ]
    },
    {
      "cell_type": "markdown",
      "metadata": {
        "id": "CYKcYq9jajGV"
      },
      "source": [
        "**Question:** What is `x`?"
      ]
    },
    {
      "cell_type": "code",
      "execution_count": null,
      "metadata": {
        "id": "qFFL837fajGW"
      },
      "outputs": [],
      "source": [
        "print(x) # What does this produce?"
      ]
    },
    {
      "cell_type": "code",
      "execution_count": null,
      "metadata": {
        "id": "Y-sFF-WnajGY"
      },
      "outputs": [],
      "source": [
        "%%html\n",
        "<iframe width=\"800\" height=\"250\" frameborder=\"0\" src=\"https://pythontutor.com/iframe-embed.html#code=x%20%3D%20%5B1,%202,%203,%204,%205%5D%0Ay%20%3D%20x%0Ay%5B2%5D%20*%3D%20-1&codeDivHeight=400&codeDivWidth=350&cumulative=false&curInstr=0&heapPrimitives=nevernest&origin=opt-frontend.js&py=3&rawInputLstJSON=%5B%5D&textReferences=false\"> </iframe>"
      ]
    },
    {
      "cell_type": "markdown",
      "metadata": {
        "id": "svWzdhZqajGa"
      },
      "source": [
        "**What's your alternative?** If you really do need a copy, what are your options?\n",
        "\n",
        "```python\n",
        "y = [1, 2, 3, 4, 5]\n",
        "y = x.copy()\n",
        "y = [e for e in x]\n",
        "```\n",
        "\n",
        "Try these in the Python Tutor."
      ]
    },
    {
      "cell_type": "markdown",
      "metadata": {
        "id": "U2yfrO62ajGd"
      },
      "source": [
        "**A tricky case.**"
      ]
    },
    {
      "cell_type": "code",
      "execution_count": null,
      "metadata": {
        "id": "p04RdMhSajGd"
      },
      "outputs": [],
      "source": [
        "x = [1, 2, ['a', 'b', 'c'], 4, 5]\n",
        "y = x.copy()\n",
        "print(y)"
      ]
    },
    {
      "cell_type": "code",
      "execution_count": null,
      "metadata": {
        "id": "uO3CJ2qCajGe"
      },
      "outputs": [],
      "source": [
        "y[2].append('w')\n",
        "print(y)"
      ]
    },
    {
      "cell_type": "code",
      "execution_count": null,
      "metadata": {
        "id": "oQmLQNIQajGe"
      },
      "outputs": [],
      "source": [
        "print(x) # What is the result?"
      ]
    },
    {
      "cell_type": "markdown",
      "metadata": {
        "id": "SqNKF_l7ajGf"
      },
      "source": [
        "In Python, all unique objects have an _identifier_ associated with them. You can query these."
      ]
    },
    {
      "cell_type": "code",
      "execution_count": null,
      "metadata": {
        "id": "ubeoT1XIajGf"
      },
      "outputs": [],
      "source": [
        "id(x), id(y)"
      ]
    },
    {
      "cell_type": "code",
      "execution_count": null,
      "metadata": {
        "id": "XaNaXv-9ajGf"
      },
      "outputs": [],
      "source": [
        "id(x[2]), id(y[2])"
      ]
    },
    {
      "cell_type": "markdown",
      "metadata": {
        "id": "xmTHLu8tajGg"
      },
      "source": [
        "In this case, `x` and `y` are distinct objects, but `x[2]` and `y[2]` refer to the same object. When we \"copied\" `x[2]` into `y[2]`, we copied the `id(x[2])` rather than duplicating the entire object. This kind of copy is sometimes called a _shallow copy_."
      ]
    },
    {
      "cell_type": "markdown",
      "metadata": {
        "id": "eI6SRb2LajGg"
      },
      "source": [
        "Still not clear? Check out a Python Tutor version."
      ]
    },
    {
      "cell_type": "code",
      "execution_count": null,
      "metadata": {
        "id": "8qg7L4R0ajGh"
      },
      "outputs": [],
      "source": [
        "%%html\n",
        "\n",
        "<iframe width=\"1024\" height=\"350\" frameborder=\"0\" src=\"https://pythontutor.com/iframe-embed.html#code=x%20%3D%20%5B1,%202,%20%5B'a',%20'b',%20'c'%5D,%204,%205%5D%0Ay%20%3D%20x.copy%28%29%0Ay%5B2%5D.append%28'w'%29&codeDivHeight=400&codeDivWidth=350&cumulative=false&curInstr=0&heapPrimitives=nevernest&origin=opt-frontend.js&py=3&rawInputLstJSON=%5B%5D&textReferences=false\"> </iframe>"
      ]
    },
    {
      "cell_type": "markdown",
      "metadata": {
        "id": "_3XVFGfxajGh"
      },
      "source": [
        "**What if you really need a copy for a nested data structure?** The preceding example illustrates that `.copy()` performs a _shallow_ copy. But what if you want a non-shallow, or _deep_, copy? There's a module for that!"
      ]
    },
    {
      "cell_type": "code",
      "execution_count": null,
      "metadata": {
        "id": "NF2BWVBVajGi"
      },
      "outputs": [],
      "source": [
        "from copy import deepcopy\n",
        "\n",
        "print('x:', x)\n",
        "z = deepcopy(x)\n",
        "print('z:', z)\n",
        "\n",
        "print('=== appending ===')\n",
        "z[2].append('@')\n",
        "print('x:', x)\n",
        "print('z:', z)"
      ]
    },
    {
      "cell_type": "markdown",
      "metadata": {
        "id": "3CKfL0GNajGi"
      },
      "source": [
        "**Exercise** (taken from Notebook 1). Let `L` be a list of strings, e.g.,\n",
        "\n",
        "```python\n",
        "L = ['abc', 'def', 'ghi']\n",
        "```\n",
        "\n",
        "Complete the function, `rev_str_cat_list(L)` so that it reverses the elements in the list and then concatenates these strings into a single string. It should not modify `L`.\n",
        "\n",
        "For instance, `rev_str_cat_list(L)` on the above list would return,\n",
        "\n",
        "```python\n",
        "'ghidefabc'\n",
        "```"
      ]
    },
    {
      "cell_type": "markdown",
      "metadata": {
        "id": "38I0AOKJajGj"
      },
      "source": [
        "Your friend supplies the following solution. It appears to produce the correct result, but is wrong. Why?"
      ]
    },
    {
      "cell_type": "code",
      "execution_count": null,
      "metadata": {
        "id": "4MmXLRaeajGj"
      },
      "outputs": [],
      "source": [
        "def rev_str_cat_list(L):\n",
        "    L.reverse()\n",
        "    return ''.join(L)\n",
        "\n",
        "L = ['abc', 'def', 'ghi']\n",
        "result = rev_str_cat_list(L)\n",
        "print(repr(result)) # So right, and yet so wrong. Why?"
      ]
    },
    {
      "cell_type": "markdown",
      "metadata": {
        "id": "kC8iHdK3ajGj"
      },
      "source": [
        "> _Answer:_ This function is considered _incorrect_ because it modifies its input. Try `print(L)` after the call to `rev_str_cat_list(L)` to verify this claim.\n",
        ">\n",
        "> In this case, the exercise stipulates that the function should not modify its input. However, you should always _assume_ that convention unless told otherwise. Why? Remember that you are writing code for others. By adhering to the convention that functions do not modify their inputs, it makes it easier for others to reason about the behavior of your code. When we want your function to modify its input, we will tell you to do so."
      ]
    },
    {
      "cell_type": "markdown",
      "metadata": {
        "id": "5x6yherFajGj"
      },
      "source": [
        "## Data structure costs ##\n",
        "\n",
        "One thing you need to be doing right now is trying to understand the different elementary data structures that Python offers and their tradeoffs."
      ]
    },
    {
      "cell_type": "markdown",
      "metadata": {
        "id": "ci7OmN53ajGj"
      },
      "source": [
        "In this part of the course, the ones you should learn are:"
      ]
    },
    {
      "cell_type": "markdown",
      "metadata": {
        "id": "9qJPNDP7ajGm"
      },
      "source": [
        "**Tuples** store a _fixed-length_, _ordered sequence_ of values. You can quickly look up any element by its _position_ or _index_. It is \"immutable\" in the sense that you cannot add or remove elements from the sequence."
      ]
    },
    {
      "cell_type": "markdown",
      "metadata": {
        "id": "3VpxLocNajGm"
      },
      "source": [
        "**Lists** store a _variable-length_, _ordered sequence_ of values. You can quickly look up any element by its _position_ (or _index_) in the sequence. You can also add or remove elements from the sequence."
      ]
    },
    {
      "cell_type": "markdown",
      "metadata": {
        "id": "yLl_QX2ZajGn"
      },
      "source": [
        "**Dictionaries** store key-value pairs. You decide what keys go with what values, where the keys must be unique. You can then quickly look up any value by its _key_."
      ]
    },
    {
      "cell_type": "markdown",
      "metadata": {
        "id": "RrPSTCM7ajGn"
      },
      "source": [
        "**Sets** store unique values. They are similar to mathematical sets. You can quickly check whether a value is in the set and perform operations like set intersections, set unions, and so on."
      ]
    },
    {
      "cell_type": "markdown",
      "metadata": {
        "id": "2mvQ7G6JajGn"
      },
      "source": [
        "To get a better feel the tradeoffs, let's do a series of experiments. For these experiments, we'll start with a list of 100,000 integer values drawn uniformly from the interval [0, 1 billion]."
      ]
    },
    {
      "cell_type": "code",
      "execution_count": null,
      "metadata": {
        "id": "u86fKjRGajGn"
      },
      "outputs": [],
      "source": [
        "from random import randint\n",
        "\n",
        "n = 100_000\n",
        "L = [randint(0, 1_000_000_000) for _ in range(n)]"
      ]
    },
    {
      "cell_type": "markdown",
      "metadata": {
        "id": "tlbffxiqajGo"
      },
      "source": [
        "Suppose I want to check whether the number `50` is in the list `L`. I can do that using the expression, `50 in L`. Let's see how long it takes."
      ]
    },
    {
      "cell_type": "code",
      "execution_count": null,
      "metadata": {
        "id": "ItNZuXHmajGo"
      },
      "outputs": [],
      "source": [
        "%timeit 50 in L"
      ]
    },
    {
      "cell_type": "markdown",
      "metadata": {
        "id": "RBafADbAajGo"
      },
      "source": [
        "Suppose I store these values instead in a _set_, `S`. How long does lookup take?"
      ]
    },
    {
      "cell_type": "code",
      "execution_count": null,
      "metadata": {
        "id": "YTIiYhDFajGo"
      },
      "outputs": [],
      "source": [
        "S = set(L)\n",
        "print(f'{len(L):,} vs. {len(S):,}') # `len(S)` should be close to `len(L)`"
      ]
    },
    {
      "cell_type": "code",
      "execution_count": null,
      "metadata": {
        "id": "Crs7B_JWajGp"
      },
      "outputs": [],
      "source": [
        "%timeit 50 in S"
      ]
    },
    {
      "cell_type": "markdown",
      "metadata": {
        "id": "EUgILYKDajGz"
      },
      "source": [
        "Lastly, let's use a dictionary. We'll use the integers themselves as keys and associate them with a dummy value, `True`."
      ]
    },
    {
      "cell_type": "code",
      "execution_count": null,
      "metadata": {
        "id": "5Og4cY5oajGz"
      },
      "outputs": [],
      "source": [
        "D = {k: True for k in L}\n",
        "%timeit 50 in D"
      ]
    },
    {
      "cell_type": "markdown",
      "metadata": {
        "id": "jSFk_BMnajG0"
      },
      "source": [
        "## Immutability ##"
      ]
    },
    {
      "cell_type": "markdown",
      "metadata": {
        "id": "Q24dG984ajG0"
      },
      "source": [
        "Certain types of objects in Python are _immutable_, meaning they cannot be modified once they are created. Integers, floating-point values, strings, and tuples are immutable.\n",
        "\n",
        "Example:"
      ]
    },
    {
      "cell_type": "code",
      "execution_count": null,
      "metadata": {
        "id": "m4JZVeO-ajG0"
      },
      "outputs": [],
      "source": [
        "s = 'abc'\n",
        "print(s[1])"
      ]
    },
    {
      "cell_type": "code",
      "execution_count": null,
      "metadata": {
        "id": "0er37vFcajG1"
      },
      "outputs": [],
      "source": [
        "#s[1] = 'x'   # Uncomment this code and see what happens"
      ]
    },
    {
      "cell_type": "code",
      "execution_count": null,
      "metadata": {
        "id": "3WxKPKOKajG1"
      },
      "outputs": [],
      "source": [
        "t = (1, 'a', 3)\n",
        "#t[1] = '@'   # Uncomment: what happens?"
      ]
    },
    {
      "cell_type": "markdown",
      "metadata": {
        "id": "-DXzUGaXajG1"
      },
      "source": [
        "Why is mutability important? The _values_ of a set or the _keys_ of a dictionary _must_ be immutable. Immutability is what allows lookups in those data structures to be fast. (Why?)"
      ]
    },
    {
      "cell_type": "code",
      "execution_count": null,
      "metadata": {
        "id": "PgxHLhckajG1"
      },
      "outputs": [],
      "source": [
        "D = {'a': 1, 'b': 2, 'c': 3}\n",
        "print(D)"
      ]
    },
    {
      "cell_type": "code",
      "execution_count": null,
      "metadata": {
        "id": "P_wYcxDoajG1"
      },
      "outputs": [],
      "source": [
        "D[(1, 'a', 3)] = 3.14159\n",
        "print(D)"
      ]
    },
    {
      "cell_type": "code",
      "execution_count": null,
      "metadata": {
        "id": "iNxCMXZsajG1"
      },
      "outputs": [],
      "source": [
        "D[(1, 'a', 3)]"
      ]
    },
    {
      "cell_type": "code",
      "execution_count": null,
      "metadata": {
        "id": "PVI2VsNQajG1"
      },
      "outputs": [],
      "source": [
        "{1, 'a', 3} # a set"
      ]
    },
    {
      "cell_type": "code",
      "execution_count": null,
      "metadata": {
        "id": "8P8BJmTOajG2"
      },
      "outputs": [],
      "source": [
        "#D[{1, 'a', 3}] = 2.71828  # Uncomment: what happens?"
      ]
    },
    {
      "cell_type": "markdown",
      "metadata": {
        "id": "9Pg7FnyAajG2"
      },
      "source": [
        "**Qualifications.** Two statements above need some qualification."
      ]
    },
    {
      "cell_type": "markdown",
      "metadata": {
        "id": "kBBeU5uXajG2"
      },
      "source": [
        "First, when you use a mutable type as a dictionary key, you'll trigger an error that uses the term \"unhashable\" rather than \"mutable.\" Immutability and hashability are distinct concepts: immutable objects have values that cannot be modified, whereas hashable objects are simply any object that has a procedure associated with it for converting it into an integer. It is possible for an immutable object to be unhashable, and for a hashable object to be mutable. **However,** _almost_ every immutable type is hashable by convention. (Even the Python documentation on [dictionaries](https://docs.python.org/3/library/stdtypes.html#typesmapping) has some confusing language on this point, referring to both hashability and mutability in the same breath.)"
      ]
    },
    {
      "cell_type": "markdown",
      "metadata": {
        "id": "2QVX0MqGajG2"
      },
      "source": [
        "Second, a tuple is immutable under a narrow definition of what its \"value\" is considered to be. For instance, consider the following code. Based on its output, would you say that a tuple is \"immutable\" under a common-sense definition?"
      ]
    },
    {
      "cell_type": "code",
      "execution_count": null,
      "metadata": {
        "id": "cu1ch_jaajG3"
      },
      "outputs": [],
      "source": [
        "immutable_in_air_quotes = (1, ['a', 'b', 'c'], 3)\n",
        "immutable_in_air_quotes"
      ]
    },
    {
      "cell_type": "code",
      "execution_count": null,
      "metadata": {
        "id": "iW9HCM1PajG3"
      },
      "outputs": [],
      "source": [
        "immutable_in_air_quotes[1].append('@')\n",
        "immutable_in_air_quotes"
      ]
    },
    {
      "cell_type": "markdown",
      "metadata": {
        "id": "lxy_DTjkajG4"
      },
      "source": [
        "The \"narrow definition\" of its value is that `id` applied to each component is always the same once you create it. In particular, you cannot change what object exists in each component:"
      ]
    },
    {
      "cell_type": "code",
      "execution_count": null,
      "metadata": {
        "id": "RxIS9x25ajG4"
      },
      "outputs": [],
      "source": [
        "print(list(id(e) for e in immutable_in_air_quotes))"
      ]
    },
    {
      "cell_type": "code",
      "execution_count": null,
      "metadata": {
        "id": "f8KB3UdwajG4"
      },
      "outputs": [],
      "source": [
        "#immutable_in_air_quotes[1] = ['different', 'list', 'no', 'way']  # Uncomment: Will error-out"
      ]
    },
    {
      "cell_type": "markdown",
      "metadata": {
        "id": "cHvznWEZajG4"
      },
      "source": [
        "So, since component 1 of `immutable_in_air_quotes` is a list, which is mutable, you can modify it. But the list that you put there can never be replaced by another list."
      ]
    },
    {
      "cell_type": "markdown",
      "metadata": {
        "id": "Q-GSqddiajG5"
      },
      "source": [
        "## Summary ##\n",
        "\n",
        "1. Every distinct object in Python has an ID, which you can see by `id(x)` for the object `x`."
      ]
    },
    {
      "cell_type": "markdown",
      "metadata": {
        "id": "F73-0hiKajG5"
      },
      "source": [
        "2. An assignment _copies_ these IDs. That is, in the assignment `y = x`, it will be the case that `id(y)` equals `id(x)`."
      ]
    },
    {
      "cell_type": "markdown",
      "metadata": {
        "id": "vPYjM07_ajG5"
      },
      "source": [
        "3. The built-in primitive types, which are `bool`, `int`, `float`, and `str`, are immutable and effectively copied on assignment. That's because the `id` of any two values is equal if the values are also equal."
      ]
    },
    {
      "cell_type": "code",
      "execution_count": null,
      "metadata": {
        "id": "FTOogQf4ajG6"
      },
      "outputs": [],
      "source": [
        "x = 5\n",
        "y = 5\n",
        "id(x), id(y)"
      ]
    },
    {
      "cell_type": "code",
      "execution_count": null,
      "metadata": {
        "id": "kMOujrOcajG6"
      },
      "outputs": [],
      "source": [
        "x = [1, 2, 3]\n",
        "y = [1, 2, 3]\n",
        "id(x), id(y)"
      ]
    },
    {
      "cell_type": "markdown",
      "metadata": {
        "id": "_IbjguCTajG6"
      },
      "source": [
        "4. Shallow vs. deep copies: An object's `.copy()` function will perform a shallow copy. For deep copies, use `deepcopy` from the `copy` module."
      ]
    },
    {
      "cell_type": "markdown",
      "metadata": {
        "id": "ZFUvgr_DajG7"
      },
      "source": [
        "5. Python provides several built-in _collections_ or _containers_ for holding a bunch of objects. These are `list`, `set`, `dict`, and `tuple`. You should learn the distinction and start building some intuition for when you might use one or another."
      ]
    },
    {
      "cell_type": "markdown",
      "metadata": {
        "id": "p6V7rbjNajG7"
      },
      "source": [
        "6. For lookups, the `set` and `dict` (for keys) collections can do that quickly. They do so by restricting what you can store in them, namely, _immutable_ objects."
      ]
    }
  ],
  "metadata": {
    "celltoolbar": "Slideshow",
    "kernelspec": {
      "display_name": "Python 3",
      "language": "python",
      "name": "python3"
    },
    "language_info": {
      "codemirror_mode": {
        "name": "ipython",
        "version": 3
      },
      "file_extension": ".py",
      "mimetype": "text/x-python",
      "name": "python",
      "nbconvert_exporter": "python",
      "pygments_lexer": "ipython3",
      "version": "3.8.5"
    },
    "toc": {
      "base_numbering": 1,
      "nav_menu": {},
      "number_sections": true,
      "sideBar": true,
      "skip_h1_title": false,
      "title_cell": "Table of Contents",
      "title_sidebar": "Contents",
      "toc_cell": false,
      "toc_position": {},
      "toc_section_display": true,
      "toc_window_display": false
    },
    "colab": {
      "provenance": [],
      "include_colab_link": true
    }
  },
  "nbformat": 4,
  "nbformat_minor": 0
}